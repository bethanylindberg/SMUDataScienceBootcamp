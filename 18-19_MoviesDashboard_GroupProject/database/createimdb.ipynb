{
 "cells": [
  {
   "cell_type": "code",
   "execution_count": 1,
   "metadata": {},
   "outputs": [],
   "source": [
    "#Import SQLLite module\n",
    "\n",
    "import sqlite3"
   ]
  },
  {
   "cell_type": "code",
   "execution_count": 2,
   "metadata": {},
   "outputs": [],
   "source": [
    "#Create Movies database\n",
    "\n",
    "conn = sqlite3.connect('database/imdbmovies.db')\n",
    "c = conn.cursor()"
   ]
  },
  {
   "cell_type": "code",
   "execution_count": 3,
   "metadata": {},
   "outputs": [
    {
     "data": {
      "text/plain": [
       "<sqlite3.Cursor at 0x1d878144730>"
      ]
     },
     "execution_count": 3,
     "metadata": {},
     "output_type": "execute_result"
    }
   ],
   "source": [
    "#Create table ACTOR.\n",
    "c.execute('''CREATE TABLE ACTOR\n",
    "             ([imdb_id] varchar(12) PRIMARY KEY,[name] varchar(40), [credit] varchar(25), [gender] varchar(6), \n",
    "             [actor_id] varchar(12), [rank] INTEGER)''')\n"
   ]
  },
  {
   "cell_type": "code",
   "execution_count": 4,
   "metadata": {},
   "outputs": [
    {
     "data": {
      "text/plain": [
       "<sqlite3.Cursor at 0x1d878144730>"
      ]
     },
     "execution_count": 4,
     "metadata": {},
     "output_type": "execute_result"
    }
   ],
   "source": [
    "#Create table MOVIES.\n",
    "#Columns: movie_id, title, description, language, length, rating, category\n",
    "c.execute('''CREATE TABLE MOVIES ([imdb_id] varchar(12) PRIMARY KEY, [title] varchar(50), [released] varchar(6), \n",
    "          [runtime] varchar(12), [genre] varchar(100), [director] varchar(50), [writer] varchar(100), [actors] varchar(100), \n",
    "          [plot] varchar(100), [country] varchar(50), [awards] varchar(100), [metascore] INTEGER, [imdb_rating] FLOAT,\n",
    "          [imdb_votes] INTEGER, [type] varchar(12), [box_office] FLOAT, [production] varchar(100), [rt_rating] INTEGER)''')\n"
   ]
  },
  {
   "cell_type": "code",
   "execution_count": 5,
   "metadata": {},
   "outputs": [],
   "source": [
    "#Query data from a table\n",
    "#A sample query below\n",
    "\n",
    "c.execute(\"SELECT * FROM ACTOR\")\n",
    "\n",
    "rows = c.fetchall()\n",
    "\n",
    "for row in rows:\n",
    "    print(row)"
   ]
  },
  {
   "cell_type": "code",
   "execution_count": null,
   "metadata": {},
   "outputs": [],
   "source": []
  }
 ],
 "metadata": {
  "kernelspec": {
   "display_name": "Python 3",
   "language": "python",
   "name": "python3"
  },
  "language_info": {
   "codemirror_mode": {
    "name": "ipython",
    "version": 3
   },
   "file_extension": ".py",
   "mimetype": "text/x-python",
   "name": "python",
   "nbconvert_exporter": "python",
   "pygments_lexer": "ipython3",
   "version": "3.6.7"
  }
 },
 "nbformat": 4,
 "nbformat_minor": 2
}
