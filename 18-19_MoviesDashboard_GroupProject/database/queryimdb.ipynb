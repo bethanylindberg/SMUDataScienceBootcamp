{
 "cells": [
  {
   "cell_type": "code",
   "execution_count": 4,
   "metadata": {},
   "outputs": [],
   "source": [
    "#Import SQLLite module\n",
    "\n",
    "import sqlite3"
   ]
  },
  {
   "cell_type": "code",
   "execution_count": 7,
   "metadata": {},
   "outputs": [],
   "source": [
    "#Create Movies database\n",
    "\n",
    "conn = sqlite3.connect('omdbdatabase.sqlite')\n",
    "c = conn.cursor()"
   ]
  },
  {
   "cell_type": "code",
   "execution_count": 10,
   "metadata": {},
   "outputs": [
    {
     "name": "stdout",
     "output_type": "stream",
     "text": [
      "('Morgan Freeman',)\n",
      "('Leonardo DiCaprio',)\n",
      "('Brad Pitt',)\n",
      "('Michael Caine',)\n",
      "('Robert De Niro',)\n",
      "('Matt Damon',)\n",
      "('Tom Hanks',)\n",
      "('Christian Bale',)\n",
      "('Gary Oldman',)\n",
      "('Al Pacino',)\n",
      "('Edward Norton',)\n",
      "('Harrison Ford',)\n",
      "('Johnny Depp',)\n",
      "('Cillian Murphy',)\n",
      "('Bruce Willis',)\n",
      "('Ralph Fiennes',)\n",
      "('Kevin Spacey',)\n",
      "('Jack Nicholson',)\n",
      "('Samuel L. Jackson',)\n",
      "('Robert Duvall',)\n",
      "('Philip Seymour Hoffman',)\n",
      "('Tom Hardy',)\n",
      "('Steve Buscemi',)\n",
      "('Mark Ruffalo',)\n",
      "('George Clooney',)\n",
      "('Liam Neeson',)\n",
      "('Tom Cruise',)\n",
      "('Hugo Weaving',)\n",
      "('Jude Law',)\n",
      "('Jake Gyllenhaal',)\n",
      "('Russell Crowe',)\n",
      "('Casey Affleck',)\n",
      "('Clint Eastwood',)\n",
      "('Harvey Keitel',)\n",
      "('Ryan Gosling',)\n",
      "('Tom Wilkinson',)\n",
      "('Woody Harrelson',)\n",
      "('Bradley Cooper',)\n",
      "('Denzel Washington',)\n",
      "('Tim Robbins',)\n",
      "('Ben Kingsley',)\n",
      "('Joseph Gordon-Levitt',)\n",
      "('John Hurt',)\n",
      "('John Cazale',)\n",
      "('John Carroll Lynch',)\n",
      "('Ed Harris',)\n",
      "('Ben Affleck',)\n",
      "('Matthew McConaughey',)\n",
      "('Christoph Waltz',)\n",
      "('Tim Roth',)\n",
      "('Bill Murray',)\n",
      "('Michael Fassbender',)\n",
      "('Pete Postlethwaite',)\n",
      "('Michael Madsen',)\n",
      "('Barry Pepper',)\n",
      "('Chiwetel Ejiofor',)\n",
      "('Alan Rickman',)\n",
      "('Heath Ledger',)\n",
      "('Jamie Foxx',)\n",
      "('Geoffrey Rush',)\n",
      "('Guy Pearce',)\n",
      "('Paul Giamatti',)\n",
      "('Orlando Bloom',)\n",
      "('Martin Sheen',)\n",
      "('John Goodman',)\n",
      "('Christopher Lloyd',)\n",
      "('Alec Baldwin',)\n",
      "('Dustin Hoffman',)\n",
      "('Mykelti Williamson',)\n",
      "('Joe Pesci',)\n",
      "('Ethan Hawke',)\n",
      "('Don Cheadle',)\n",
      "('Stellan Skarsgård',)\n",
      "('Joaquin Phoenix',)\n",
      "('Benicio Del Toro',)\n",
      "('Jeremy Renner',)\n",
      "('Stanley Tucci',)\n",
      "('Marlon Brando',)\n",
      "('Aaron Eckhart',)\n",
      "('Robert Downey Jr.',)\n",
      "('Zach Galifianakis',)\n",
      "('Kyle Chandler',)\n",
      "('Daniel Craig',)\n",
      "('Ken Watanabe',)\n",
      "('Owen Wilson',)\n",
      "('Max von Sydow',)\n",
      "('Mark Wahlberg',)\n",
      "('Adrien Brody',)\n",
      "('Jim Carrey',)\n",
      "('Robin Williams',)\n",
      "('John Travolta',)\n",
      "('Tom Sizemore',)\n",
      "('Elliott Gould',)\n",
      "('Richard Harris',)\n",
      "('Laurence Fishburne',)\n",
      "('Keanu Reeves',)\n",
      "('Ian Holm',)\n",
      "('Sean Connery',)\n",
      "('Ewan McGregor',)\n",
      "('Josh Brolin',)\n",
      "('Natalie Portman',)\n",
      "('Anne Hathaway',)\n",
      "('Talia Shire',)\n",
      "('Diane Keaton',)\n",
      "('Keira Knightley',)\n",
      "('Uma Thurman',)\n",
      "('Jennifer Lawrence',)\n",
      "('Julianne Moore',)\n",
      "('Amy Adams',)\n",
      "('Cate Blanchett',)\n",
      "('Marion Cotillard',)\n",
      "('Helena Bonham Carter',)\n",
      "('Jessica Chastain',)\n",
      "('Kate Winslet',)\n",
      "('Scarlett Johansson',)\n",
      "('Léa Seydoux',)\n",
      "('Robin Wright',)\n",
      "('Vera Farmiga',)\n",
      "('Tilda Swinton',)\n",
      "('Gwyneth Paltrow',)\n",
      "('Carrie-Anne Moss',)\n",
      "('Maggie Gyllenhaal',)\n",
      "('Jennifer Connelly',)\n",
      "('Judi Dench',)\n",
      "('Jodie Foster',)\n",
      "('Meryl Streep',)\n",
      "('Carrie Fisher',)\n",
      "('Amanda Plummer',)\n",
      "('Sigourney Weaver',)\n",
      "('Frances McDormand',)\n",
      "('Sandra Bullock',)\n",
      "('Rebecca Hall',)\n",
      "('Sally Field',)\n",
      "('Daryl Hannah',)\n",
      "('Juno Temple',)\n",
      "('Naomie Harris',)\n",
      "('Julia Roberts',)\n",
      "('Emily Mortimer',)\n",
      "('Naomi Watts',)\n",
      "('Nicole Kidman',)\n",
      "('Emma Stone',)\n",
      "('Jennifer Garner',)\n",
      "('Michelle Williams',)\n",
      "('Carey Mulligan',)\n",
      "('Mélanie Laurent',)\n",
      "('Melissa Leo',)\n",
      "('Kathy Bates',)\n",
      "('Rachel McAdams',)\n",
      "('Winona Ryder',)\n",
      "('Viola Davis',)\n",
      "('Toni Collette',)\n",
      "('Emma Watson',)\n",
      "('Patricia Clarkson',)\n",
      "('Rosanna Arquette',)\n",
      "('Ellen Page',)\n",
      "('Catherine Keener',)\n",
      "('Elle Fanning',)\n",
      "('Kerry Washington',)\n",
      "('Cameron Diaz',)\n",
      "('Diane Kruger',)\n",
      "('Kristen Wiig',)\n",
      "('Elizabeth Banks',)\n",
      "('Laura Linney',)\n",
      "('Annette Bening',)\n",
      "('Rooney Mara',)\n",
      "('Maggie Smith',)\n",
      "('Penélope Cruz',)\n",
      "('Olivia Williams',)\n",
      "('Lucy Liu',)\n",
      "('Vivica A. Fox',)\n",
      "('Katie Holmes',)\n",
      "('Kirsten Dunst',)\n",
      "('Michelle Monaghan',)\n",
      "('Kelly Macdonald',)\n",
      "('Liv Tyler',)\n",
      "('Jennifer Ehle',)\n",
      "('Lea Thompson',)\n",
      "('Jennifer Jason Leigh',)\n",
      "('Saoirse Ronan',)\n",
      "('Hilary Swank',)\n",
      "('Amy Ryan',)\n",
      "('Sarah Paulson',)\n",
      "('Ellen Burstyn',)\n",
      "('Catherine Zeta-Jones',)\n",
      "('Rosamund Pike',)\n",
      "('Marcia Gay Harden',)\n",
      "('Margot Robbie',)\n",
      "('Marisa Tomei',)\n",
      "('Adam Tomei',)\n",
      "('Franka Potente',)\n",
      "('Karen Allen',)\n",
      "('Frances Fisher',)\n",
      "('Isla Fisher',)\n",
      "('Allison Janney',)\n",
      "('Kristen Stewart',)\n",
      "(\"Beverly D'Angelo\",)\n",
      "('Mary Steenburgen',)\n",
      "('Michelle Pfeiffer',)\n",
      "('Laura Dern',)\n",
      "('Charlize Theron',)\n"
     ]
    }
   ],
   "source": [
    "#Print unique actor names\n",
    "\n",
    "c.execute(\"SELECT DISTINCT name FROM ACTOR\")\n",
    "\n",
    "rows = c.fetchall()\n",
    "\n",
    "for row in rows:\n",
    "    print(row)"
   ]
  },
  {
   "cell_type": "code",
   "execution_count": 20,
   "metadata": {},
   "outputs": [
    {
     "name": "stdout",
     "output_type": "stream",
     "text": [
      "[(200,)]\n"
     ]
    }
   ],
   "source": [
    "#Print actor count\n",
    "\n",
    "c.execute(\"SELECT COUNT(*) FROM (SELECT DISTINCT name FROM ACTOR)\")\n",
    "\n",
    "rows = c.fetchall()\n",
    "\n",
    "print(rows)"
   ]
  },
  {
   "cell_type": "code",
   "execution_count": 21,
   "metadata": {},
   "outputs": [
    {
     "name": "stdout",
     "output_type": "stream",
     "text": [
      "[('actor',), ('producer',), ('soundtrack',), ('director',), ('miscellaneous',), ('thanks',), ('self',), ('archive_footage',), ('writer',), ('composer',), ('editor',), ('editorial_department',), ('cinematographer',), ('camera_department',), ('music_department',), ('stunts',), ('transportation_department',), ('assistant_director',), ('casting_department',), ('sound_department',), ('animation_department',), ('actress',), ('costume_designer',), ('art_department',)]\n"
     ]
    }
   ],
   "source": [
    "#Print credit types\n",
    "\n",
    "c.execute(\"SELECT distinct credit FROM ACTOR\")\n",
    "\n",
    "rows = c.fetchall()\n",
    "\n",
    "print(rows)"
   ]
  },
  {
   "cell_type": "code",
   "execution_count": 22,
   "metadata": {},
   "outputs": [
    {
     "name": "stdout",
     "output_type": "stream",
     "text": [
      "[(24,)]\n"
     ]
    }
   ],
   "source": [
    "#Print credit count\n",
    "\n",
    "c.execute(\"SELECT COUNT(*) FROM (SELECT distinct credit FROM ACTOR)\")\n",
    "\n",
    "rows = c.fetchall()\n",
    "\n",
    "print(rows)"
   ]
  },
  {
   "cell_type": "code",
   "execution_count": 25,
   "metadata": {},
   "outputs": [
    {
     "name": "stdout",
     "output_type": "stream",
     "text": [
      "[(15358,)]\n"
     ]
    }
   ],
   "source": [
    "#Print title count\n",
    "\n",
    "c.execute(\"SELECT COUNT(*) FROM MOVIES\")\n",
    "\n",
    "rows = c.fetchall()\n",
    "\n",
    "print(rows)"
   ]
  },
  {
   "cell_type": "code",
   "execution_count": 26,
   "metadata": {},
   "outputs": [
    {
     "name": "stdout",
     "output_type": "stream",
     "text": [
      "[(12259,)]\n"
     ]
    }
   ],
   "source": [
    "#Print movie title count\n",
    "\n",
    "c.execute(\"SELECT COUNT(*) FROM MOVIES WHERE type = 'movie'\")\n",
    "\n",
    "rows = c.fetchall()\n",
    "\n",
    "print(rows)"
   ]
  },
  {
   "cell_type": "code",
   "execution_count": 27,
   "metadata": {},
   "outputs": [
    {
     "name": "stdout",
     "output_type": "stream",
     "text": [
      "[(9889,)]\n"
     ]
    }
   ],
   "source": [
    "#Movies made in the US\n",
    "\n",
    "c.execute(\"SELECT COUNT(*) FROM MOVIES WHERE country = 'USA'\")\n",
    "\n",
    "rows = c.fetchall()\n",
    "\n",
    "print(rows)"
   ]
  },
  {
   "cell_type": "code",
   "execution_count": null,
   "metadata": {},
   "outputs": [],
   "source": []
  }
 ],
 "metadata": {
  "kernelspec": {
   "display_name": "Python 3",
   "language": "python",
   "name": "python3"
  },
  "language_info": {
   "codemirror_mode": {
    "name": "ipython",
    "version": 3
   },
   "file_extension": ".py",
   "mimetype": "text/x-python",
   "name": "python",
   "nbconvert_exporter": "python",
   "pygments_lexer": "ipython3",
   "version": "3.6.7"
  }
 },
 "nbformat": 4,
 "nbformat_minor": 2
}
