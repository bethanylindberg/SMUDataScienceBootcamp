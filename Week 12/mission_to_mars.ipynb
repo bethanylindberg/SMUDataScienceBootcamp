{
 "cells": [
  {
   "cell_type": "code",
   "execution_count": 1,
   "metadata": {},
   "outputs": [],
   "source": [
    "from splinter import Browser\n",
    "from bs4 import BeautifulSoup as bs\n",
    "import time\n",
    "import pandas as pd"
   ]
  },
  {
   "cell_type": "code",
   "execution_count": 2,
   "metadata": {},
   "outputs": [],
   "source": [
    "def init_browser():\n",
    "    executable_path = {\"executable_path\": \"C:\\\\Users\\\\bethf\\\\Desktop\\\\chromedriver\"}\n",
    "    return Browser(\"chrome\", **executable_path, headless=True)"
   ]
  },
  {
   "cell_type": "code",
   "execution_count": 3,
   "metadata": {},
   "outputs": [],
   "source": [
    "def scrape_data():\n",
    "    browser = init_browser()\n",
    "\n",
    "    # Visit NASA\n",
    "    url = \"https://mars.nasa.gov/news/?page=0&per_page=40&order=publish_date+desc%2Ccreated_at+desc&search=&category=19%2C165%2C184%2C204&blank_scope=Latest\"\n",
    "    browser.visit(url)\n",
    "    time.sleep(1)\n",
    "\n",
    "    # Scrape page into Soup\n",
    "    html = browser.html\n",
    "    soup = bs(html, \"lxml\")\n",
    "\n",
    "    # Scrape data\n",
    "    article = soup.find_all(class_=\"content_title\")[0].text.strip()\n",
    "    news_p = soup.find_all(class_=\"article_teaser_body\")[0].text.strip()\n",
    "    relativearticleurl = soup.find_all(\"a\")[35][\"href\"]\n",
    "    articleurl = 'https://mars.nasa.gov' + relativearticleurl\n",
    "    relative_image_path = soup.find_all('img')[2]['src']\n",
    "    nasa_img = 'https://mars.nasa.gov' + relative_image_path\n",
    "    \n",
    "    # Visit NASA images\n",
    "    url = \"https://www.jpl.nasa.gov/spaceimages/?search=&category=Mars\"\n",
    "    browser.visit(url)\n",
    "    time.sleep(1)\n",
    "\n",
    "    # Scrape page into Soup\n",
    "    html = browser.html\n",
    "    soup = bs(html, \"lxml\")\n",
    "\n",
    "    # Scrape data\n",
    "    relative_image_path = soup.find_all('img')[3]['src']\n",
    "    first_image_url = 'https://jpl.nasa.gov' + relative_image_path\n",
    "    \n",
    "    relative_image_path = soup.find_all('article',class_=\"carousel_item\")[0][\"style\"]\n",
    "    relative_image_path = relative_image_path.replace(\"background-image: url('\",'')\n",
    "    relative_image_path = relative_image_path.replace(\"');\",'')\n",
    "    featured_image_url = 'https://jpl.nasa.gov' + relative_image_path\n",
    "    \n",
    "    #Visit Mars Weather\n",
    "    url = \"https://twitter.com/marswxreport?lang=en\"\n",
    "    browser.visit(url)\n",
    "    time.sleep(1)\n",
    "\n",
    "    # Scrape page into Soup\n",
    "    html = browser.html\n",
    "    soup = bs(html, \"lxml\")\n",
    "    \n",
    "    # Scrape data\n",
    "    mars_weather = soup.find_all('p',class_=\"TweetTextSize TweetTextSize--normal js-tweet-text tweet-text\")[0].text.strip()\n",
    "    \n",
    "    #Visit Mars Facts\n",
    "    url = \"https://space-facts.com/mars/\"\n",
    "\n",
    "    #Scrape Table\n",
    "    table = pd.read_html(url)[0]\n",
    "    mars_facts = table.to_html(header=False,index=False)\n",
    "    mars_facts = mars_facts.replace('\\n','')\n",
    "    mars_facts\n",
    "    \n",
    "    #Loop for Hemispheres\n",
    "    hemispheres_list = []\n",
    "\n",
    "    for num in range(0,4):\n",
    "        hemispheres = {}\n",
    "        \n",
    "        #Visit Mars Astropedia\n",
    "        url = \"https://astrogeology.usgs.gov/search/results?q=hemisphere+enhanced&k1=target&v1=Mars\"\n",
    "        browser.visit(url)\n",
    "        html = browser.html\n",
    "        soup = bs(html, \"lxml\")\n",
    "        \n",
    "        #Click on hemisphere for full size image\n",
    "        browser.find_by_css(\"h3\")[num].click()\n",
    "\n",
    "        html = browser.html\n",
    "        soup = bs(html, \"lxml\")\n",
    "\n",
    "        #Scrape data\n",
    "        relative_path = soup.find('img',class_=\"wide-image\")['src']\n",
    "        img = 'https://astrogeology.usgs.gov' + relative_path\n",
    "        title = soup.find('h2',class_=\"title\").text.strip()\n",
    "\n",
    "        #Append Data\n",
    "        hemispheres[\"title\"] = title\n",
    "        hemispheres[\"img\"] = img\n",
    "        hemispheres_list.append(hemispheres)\n",
    "\n",
    "        #Back to Mars Astropedia\n",
    "        url = \"https://astrogeology.usgs.gov/search/results?q=hemisphere+enhanced&k1=target&v1=Mars\"\n",
    "        browser.visit(url)\n",
    "    \n",
    "    # Store data in a dictionary\n",
    "    data = {\n",
    "        \"article\": article,\n",
    "        \"articleurl\": articleurl,\n",
    "        \"news_p\": news_p,\n",
    "        \"first_image_url\": first_image_url,\n",
    "        \"featured_image_url\": featured_image_url,\n",
    "        \"mars_weather\":mars_weather,\n",
    "        \"marsfacts\":mars_facts,\n",
    "        \"hemispheres_list\":hemispheres_list\n",
    "    }\n",
    "\n",
    "    # Close the browser after scraping\n",
    "    browser.quit()\n",
    "\n",
    "    # Return results\n",
    "    return data"
   ]
  },
  {
   "cell_type": "code",
   "execution_count": 4,
   "metadata": {
    "scrolled": true
   },
   "outputs": [],
   "source": [
    "data = scrape_data()"
   ]
  },
  {
   "cell_type": "code",
   "execution_count": 5,
   "metadata": {},
   "outputs": [
    {
     "data": {
      "text/plain": [
       "{'article': 'Why This Martian Full Moon Looks Like Candy',\n",
       " 'articleurl': 'https://mars.nasa.gov/news/8436/why-this-martian-full-moon-looks-like-candy/',\n",
       " 'news_p': \"For the first time, NASA's Mars Odyssey orbiter has caught the Martian moon Phobos during a full moon phase. Each color in this new image represents a temperature range detected by Odyssey's infrared camera.\",\n",
       " 'first_image_url': 'https://jpl.nasa.gov/spaceimages/images/wallpaper/PIA23208-640x350.jpg',\n",
       " 'featured_image_url': 'https://jpl.nasa.gov/spaceimages/images/wallpaper/PIA14579-1920x1200.jpg',\n",
       " 'mars_weather': 'InSight sol 159 (2019-05-08) low -100.3ºC (-148.5ºF) high -21.6ºC (-6.9ºF)\\nwinds from the SW at 4.6 m/s (10.4 mph) gusting to 15.3 m/s (34.2 mph)\\npressure at 7.40 hPapic.twitter.com/rg5UKl8dLc',\n",
       " 'marsfacts': '<table border=\"1\" class=\"dataframe\">  <tbody>    <tr>      <td>Equatorial Diameter:</td>      <td>6,792 km</td>    </tr>    <tr>      <td>Polar Diameter:</td>      <td>6,752 km</td>    </tr>    <tr>      <td>Mass:</td>      <td>6.42 x 10^23 kg (10.7% Earth)</td>    </tr>    <tr>      <td>Moons:</td>      <td>2 (Phobos &amp; Deimos)</td>    </tr>    <tr>      <td>Orbit Distance:</td>      <td>227,943,824 km (1.52 AU)</td>    </tr>    <tr>      <td>Orbit Period:</td>      <td>687 days (1.9 years)</td>    </tr>    <tr>      <td>Surface Temperature:</td>      <td>-153 to 20 °C</td>    </tr>    <tr>      <td>First Record:</td>      <td>2nd millennium BC</td>    </tr>    <tr>      <td>Recorded By:</td>      <td>Egyptian astronomers</td>    </tr>  </tbody></table>',\n",
       " 'hemispheres_list': [{'title': 'Cerberus Hemisphere Enhanced',\n",
       "   'img': 'https://astrogeology.usgs.gov/cache/images/cfa62af2557222a02478f1fcd781d445_cerberus_enhanced.tif_full.jpg'},\n",
       "  {'title': 'Schiaparelli Hemisphere Enhanced',\n",
       "   'img': 'https://astrogeology.usgs.gov/cache/images/3cdd1cbf5e0813bba925c9030d13b62e_schiaparelli_enhanced.tif_full.jpg'},\n",
       "  {'title': 'Syrtis Major Hemisphere Enhanced',\n",
       "   'img': 'https://astrogeology.usgs.gov/cache/images/ae209b4e408bb6c3e67b6af38168cf28_syrtis_major_enhanced.tif_full.jpg'},\n",
       "  {'title': 'Valles Marineris Hemisphere Enhanced',\n",
       "   'img': 'https://astrogeology.usgs.gov/cache/images/7cf2da4bf549ed01c17f206327be4db7_valles_marineris_enhanced.tif_full.jpg'}]}"
      ]
     },
     "execution_count": 5,
     "metadata": {},
     "output_type": "execute_result"
    }
   ],
   "source": [
    "data"
   ]
  },
  {
   "cell_type": "code",
   "execution_count": 6,
   "metadata": {},
   "outputs": [
    {
     "data": {
      "text/plain": [
       "'Why This Martian Full Moon Looks Like Candy'"
      ]
     },
     "execution_count": 6,
     "metadata": {},
     "output_type": "execute_result"
    }
   ],
   "source": [
    "data[\"article\"]"
   ]
  },
  {
   "cell_type": "code",
   "execution_count": 7,
   "metadata": {},
   "outputs": [
    {
     "data": {
      "text/plain": [
       "'https://mars.nasa.gov/news/8436/why-this-martian-full-moon-looks-like-candy/'"
      ]
     },
     "execution_count": 7,
     "metadata": {},
     "output_type": "execute_result"
    }
   ],
   "source": [
    "data[\"articleurl\"]"
   ]
  },
  {
   "cell_type": "code",
   "execution_count": 8,
   "metadata": {},
   "outputs": [
    {
     "data": {
      "text/plain": [
       "\"For the first time, NASA's Mars Odyssey orbiter has caught the Martian moon Phobos during a full moon phase. Each color in this new image represents a temperature range detected by Odyssey's infrared camera.\""
      ]
     },
     "execution_count": 8,
     "metadata": {},
     "output_type": "execute_result"
    }
   ],
   "source": [
    "data[\"news_p\"]"
   ]
  },
  {
   "cell_type": "code",
   "execution_count": 9,
   "metadata": {},
   "outputs": [
    {
     "data": {
      "text/plain": [
       "'https://jpl.nasa.gov/spaceimages/images/wallpaper/PIA23208-640x350.jpg'"
      ]
     },
     "execution_count": 9,
     "metadata": {},
     "output_type": "execute_result"
    }
   ],
   "source": [
    "data[\"first_image_url\"]"
   ]
  },
  {
   "cell_type": "code",
   "execution_count": 10,
   "metadata": {},
   "outputs": [
    {
     "data": {
      "text/plain": [
       "'https://jpl.nasa.gov/spaceimages/images/wallpaper/PIA14579-1920x1200.jpg'"
      ]
     },
     "execution_count": 10,
     "metadata": {},
     "output_type": "execute_result"
    }
   ],
   "source": [
    "data[\"featured_image_url\"]"
   ]
  },
  {
   "cell_type": "code",
   "execution_count": 11,
   "metadata": {},
   "outputs": [
    {
     "data": {
      "text/plain": [
       "'InSight sol 159 (2019-05-08) low -100.3ºC (-148.5ºF) high -21.6ºC (-6.9ºF)\\nwinds from the SW at 4.6 m/s (10.4 mph) gusting to 15.3 m/s (34.2 mph)\\npressure at 7.40 hPapic.twitter.com/rg5UKl8dLc'"
      ]
     },
     "execution_count": 11,
     "metadata": {},
     "output_type": "execute_result"
    }
   ],
   "source": [
    "data[\"mars_weather\"]"
   ]
  },
  {
   "cell_type": "code",
   "execution_count": 12,
   "metadata": {},
   "outputs": [
    {
     "data": {
      "text/plain": [
       "'<table border=\"1\" class=\"dataframe\">  <tbody>    <tr>      <td>Equatorial Diameter:</td>      <td>6,792 km</td>    </tr>    <tr>      <td>Polar Diameter:</td>      <td>6,752 km</td>    </tr>    <tr>      <td>Mass:</td>      <td>6.42 x 10^23 kg (10.7% Earth)</td>    </tr>    <tr>      <td>Moons:</td>      <td>2 (Phobos &amp; Deimos)</td>    </tr>    <tr>      <td>Orbit Distance:</td>      <td>227,943,824 km (1.52 AU)</td>    </tr>    <tr>      <td>Orbit Period:</td>      <td>687 days (1.9 years)</td>    </tr>    <tr>      <td>Surface Temperature:</td>      <td>-153 to 20 °C</td>    </tr>    <tr>      <td>First Record:</td>      <td>2nd millennium BC</td>    </tr>    <tr>      <td>Recorded By:</td>      <td>Egyptian astronomers</td>    </tr>  </tbody></table>'"
      ]
     },
     "execution_count": 12,
     "metadata": {},
     "output_type": "execute_result"
    }
   ],
   "source": [
    "data[\"marsfacts\"]"
   ]
  },
  {
   "cell_type": "code",
   "execution_count": 13,
   "metadata": {},
   "outputs": [
    {
     "data": {
      "text/plain": [
       "'Cerberus Hemisphere Enhanced'"
      ]
     },
     "execution_count": 13,
     "metadata": {},
     "output_type": "execute_result"
    }
   ],
   "source": [
    "data[\"hemispheres_list\"][0][\"title\"]"
   ]
  },
  {
   "cell_type": "code",
   "execution_count": 14,
   "metadata": {},
   "outputs": [
    {
     "data": {
      "text/plain": [
       "'https://astrogeology.usgs.gov/cache/images/cfa62af2557222a02478f1fcd781d445_cerberus_enhanced.tif_full.jpg'"
      ]
     },
     "execution_count": 14,
     "metadata": {},
     "output_type": "execute_result"
    }
   ],
   "source": [
    "data[\"hemispheres_list\"][0][\"img\"]"
   ]
  }
 ],
 "metadata": {
  "kernelspec": {
   "display_name": "Python 3",
   "language": "python",
   "name": "python3"
  },
  "language_info": {
   "codemirror_mode": {
    "name": "ipython",
    "version": 3
   },
   "file_extension": ".py",
   "mimetype": "text/x-python",
   "name": "python",
   "nbconvert_exporter": "python",
   "pygments_lexer": "ipython3",
   "version": "3.7.3"
  }
 },
 "nbformat": 4,
 "nbformat_minor": 2
}
