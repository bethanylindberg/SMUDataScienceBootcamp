{
 "cells": [
  {
   "cell_type": "code",
   "execution_count": 43,
   "metadata": {},
   "outputs": [],
   "source": [
    "from splinter import Browser\n",
    "from bs4 import BeautifulSoup as bs\n",
    "import time\n",
    "import pandas as pd"
   ]
  },
  {
   "cell_type": "code",
   "execution_count": 52,
   "metadata": {},
   "outputs": [],
   "source": [
    "def init_browser():\n",
    "    executable_path = {\"executable_path\": \"C:\\\\Users\\\\bethf\\\\Desktop\\\\chromedriver\"}\n",
    "    return Browser(\"chrome\", **executable_path, headless=True)"
   ]
  },
  {
   "cell_type": "code",
   "execution_count": 115,
   "metadata": {},
   "outputs": [],
   "source": [
    "def scrape_data():\n",
    "    browser = init_browser()\n",
    "\n",
    "    # Visit NASA\n",
    "    url = \"https://mars.nasa.gov/news/?page=0&per_page=40&order=publish_date+desc%2Ccreated_at+desc&search=&category=19%2C165%2C184%2C204&blank_scope=Latest\"\n",
    "    browser.visit(url)\n",
    "    time.sleep(1)\n",
    "\n",
    "    # Scrape page into Soup\n",
    "    html = browser.html\n",
    "    soup = bs(html, \"lxml\")\n",
    "\n",
    "    # Scrape data\n",
    "    article = soup.find_all(class_=\"content_title\")[0].text.strip()\n",
    "    news_p = soup.find_all(class_=\"article_teaser_body\")[0].text.strip()\n",
    "    relative_image_path = soup.find_all('img')[2]['src']\n",
    "    nasa_img = 'https://mars.nasa.gov' + relative_image_path\n",
    "    \n",
    "    # Visit NASA images\n",
    "    url = \"https://www.jpl.nasa.gov/spaceimages/?search=&category=Mars\"\n",
    "    browser.visit(url)\n",
    "    time.sleep(1)\n",
    "\n",
    "    # Scrape page into Soup\n",
    "    html = browser.html\n",
    "    soup = bs(html, \"lxml\")\n",
    "\n",
    "    # Scrape data\n",
    "    relative_image_path = soup.find_all('img')[3]['src']\n",
    "    featured_image_url = 'https://jpl.nasa.gov' + relative_image_path\n",
    "    \n",
    "    #Visit Mars Weather\n",
    "    url = \"https://twitter.com/marswxreport?lang=en\"\n",
    "    browser.visit(url)\n",
    "    time.sleep(1)\n",
    "\n",
    "    # Scrape page into Soup\n",
    "    html = browser.html\n",
    "    soup = bs(html, \"lxml\")\n",
    "    \n",
    "    # Scrape data\n",
    "    mars_weather = soup.find_all('p',class_=\"TweetTextSize TweetTextSize--normal js-tweet-text tweet-text\")[0].text.strip()\n",
    "    \n",
    "    #Visit Mars Facts\n",
    "    url = \"https://space-facts.com/mars/\"\n",
    "    browser.visit(url)\n",
    "    time.sleep(1)\n",
    "\n",
    "    # Scrape page into Soup\n",
    "    html = browser.html\n",
    "    soup = bs(html, \"lxml\")\n",
    "    \n",
    "    #Scrape Table\n",
    "    table = pd.read_html(url)[0]\n",
    "    mars_facts = table.to_html()\n",
    "    \n",
    "    #Loop for Hemispheres\n",
    "    hemispheres_list = []\n",
    "\n",
    "    for num in range(0,4):\n",
    "        hemispheres = {}\n",
    "        \n",
    "        #Visit Mars Astropedia\n",
    "        url = \"https://astrogeology.usgs.gov/search/results?q=hemisphere+enhanced&k1=target&v1=Mars\"\n",
    "        browser.visit(url)\n",
    "        html = browser.html\n",
    "        soup = bs(html, \"lxml\")\n",
    "        \n",
    "        #Click on hemisphere for full size image\n",
    "        browser.find_by_css(\"h3\")[num].click()\n",
    "\n",
    "        html = browser.html\n",
    "        soup = bs(html, \"lxml\")\n",
    "\n",
    "        #Scrape data\n",
    "        relative_path = soup.find('img',class_=\"wide-image\")['src']\n",
    "        img = 'https://astrogeology.usgs.gov' + relative_path\n",
    "        title = soup.find('h2',class_=\"title\").text.strip()\n",
    "\n",
    "        #Append Data\n",
    "        hemispheres[\"title\"] = title\n",
    "        hemispheres[\"img\"] = img\n",
    "        hemispheres_list.append(hemispheres)\n",
    "\n",
    "        #Back to Mars Astropedia\n",
    "        url = \"https://astrogeology.usgs.gov/search/results?q=hemisphere+enhanced&k1=target&v1=Mars\"\n",
    "        browser.visit(url)\n",
    "    \n",
    "    # Store data in a dictionary\n",
    "    data = {\n",
    "        \"article\": article,\n",
    "        \"news_p\": news_p,\n",
    "        \"featured_image_url\": featured_image_url,\n",
    "        \"mars_weather\":mars_weather,\n",
    "        \"marsfacts\":mars_facts,\n",
    "        \"hemispheres_list\":hemispheres_list\n",
    "    }\n",
    "\n",
    "    # Close the browser after scraping\n",
    "    browser.quit()\n",
    "\n",
    "    # Return results\n",
    "    return data"
   ]
  },
  {
   "cell_type": "code",
   "execution_count": 116,
   "metadata": {},
   "outputs": [
    {
     "data": {
      "text/plain": [
       "{'article': 'InSight Captures Sunrise and Sunset on Mars',\n",
       " 'news_p': \"InSight joins the rest of NASA's Red Planet surface missions, all of which have photographed either the start or end of a Martian day.\",\n",
       " 'featured_image_url': 'https://jpl.nasa.gov/spaceimages/images/wallpaper/PIA23202-640x350.jpg',\n",
       " 'mars_weather': 'Sunrise and sunset @NASAInSight sol 145, 5:30am and 6:30pm local time https://www.jpl.nasa.gov/spaceimages/details.php?id=PIA23201\\xa0…pic.twitter.com/GfLOt2KOWU',\n",
       " 'marsfacts': '<table border=\"1\" class=\"dataframe\">\\n  <thead>\\n    <tr style=\"text-align: right;\">\\n      <th></th>\\n      <th>0</th>\\n      <th>1</th>\\n    </tr>\\n  </thead>\\n  <tbody>\\n    <tr>\\n      <th>0</th>\\n      <td>Equatorial Diameter:</td>\\n      <td>6,792 km</td>\\n    </tr>\\n    <tr>\\n      <th>1</th>\\n      <td>Polar Diameter:</td>\\n      <td>6,752 km</td>\\n    </tr>\\n    <tr>\\n      <th>2</th>\\n      <td>Mass:</td>\\n      <td>6.42 x 10^23 kg (10.7% Earth)</td>\\n    </tr>\\n    <tr>\\n      <th>3</th>\\n      <td>Moons:</td>\\n      <td>2 (Phobos &amp; Deimos)</td>\\n    </tr>\\n    <tr>\\n      <th>4</th>\\n      <td>Orbit Distance:</td>\\n      <td>227,943,824 km (1.52 AU)</td>\\n    </tr>\\n    <tr>\\n      <th>5</th>\\n      <td>Orbit Period:</td>\\n      <td>687 days (1.9 years)</td>\\n    </tr>\\n    <tr>\\n      <th>6</th>\\n      <td>Surface Temperature:</td>\\n      <td>-153 to 20 °C</td>\\n    </tr>\\n    <tr>\\n      <th>7</th>\\n      <td>First Record:</td>\\n      <td>2nd millennium BC</td>\\n    </tr>\\n    <tr>\\n      <th>8</th>\\n      <td>Recorded By:</td>\\n      <td>Egyptian astronomers</td>\\n    </tr>\\n  </tbody>\\n</table>',\n",
       " 'hemispheres_list': [{'title': 'Cerberus Hemisphere Enhanced',\n",
       "   'img': 'https://astrogeology.usgs.gov/cache/images/cfa62af2557222a02478f1fcd781d445_cerberus_enhanced.tif_full.jpg'},\n",
       "  {'title': 'Schiaparelli Hemisphere Enhanced',\n",
       "   'img': 'https://astrogeology.usgs.gov/cache/images/3cdd1cbf5e0813bba925c9030d13b62e_schiaparelli_enhanced.tif_full.jpg'},\n",
       "  {'title': 'Syrtis Major Hemisphere Enhanced',\n",
       "   'img': 'https://astrogeology.usgs.gov/cache/images/ae209b4e408bb6c3e67b6af38168cf28_syrtis_major_enhanced.tif_full.jpg'},\n",
       "  {'title': 'Valles Marineris Hemisphere Enhanced',\n",
       "   'img': 'https://astrogeology.usgs.gov/cache/images/7cf2da4bf549ed01c17f206327be4db7_valles_marineris_enhanced.tif_full.jpg'}]}"
      ]
     },
     "execution_count": 116,
     "metadata": {},
     "output_type": "execute_result"
    }
   ],
   "source": [
    "scrape_data()"
   ]
  },
  {
   "cell_type": "code",
   "execution_count": null,
   "metadata": {},
   "outputs": [],
   "source": []
  }
 ],
 "metadata": {
  "kernelspec": {
   "display_name": "Python 3",
   "language": "python",
   "name": "python3"
  },
  "language_info": {
   "codemirror_mode": {
    "name": "ipython",
    "version": 3
   },
   "file_extension": ".py",
   "mimetype": "text/x-python",
   "name": "python",
   "nbconvert_exporter": "python",
   "pygments_lexer": "ipython3",
   "version": "3.7.3"
  }
 },
 "nbformat": 4,
 "nbformat_minor": 2
}
